{
 "cells": [
  {
   "cell_type": "code",
   "execution_count": 79,
   "metadata": {},
   "outputs": [],
   "source": [
    "import pandas as pd\n",
    "import numpy as np\n",
    "import itertools"
   ]
  },
  {
   "cell_type": "code",
   "execution_count": 80,
   "metadata": {},
   "outputs": [
    {
     "name": "stdout",
     "output_type": "stream",
     "text": [
      "Please Enter Minimum Support Count in %: 30\n",
      "Please Enter Minimum Confidence in %: 50\n"
     ]
    }
   ],
   "source": [
    "min_support = int(input(\"Please Enter Minimum Support Count in %: \"))\n",
    "min_confidence = int(input(\"Please Enter Minimum Confidence in %: \"))"
   ]
  },
  {
   "cell_type": "code",
   "execution_count": 81,
   "metadata": {},
   "outputs": [
    {
     "name": "stdout",
     "output_type": "stream",
     "text": [
      "1 Amazon\n",
      "2 Best Buy\n",
      "3 Nike\n",
      "4 K-mart\n",
      "5 Custom\n",
      "What Database you want select?[1-5] 5\n",
      "Custom Dataset is selected.\n"
     ]
    }
   ],
   "source": [
    "menu = {}\n",
    "menu[\"1\"] = \"Amazon\"\n",
    "menu[\"2\"] = \"Best Buy\"\n",
    "menu[\"3\"] = \"Nike\"\n",
    "menu[\"4\"] = \"K-mart\"\n",
    "menu[\"5\"] = \"Custom\"\n",
    " \n",
    "options=menu.keys()\n",
    "while True:  \n",
    "    for entry in options: \n",
    "        print(entry, menu[entry])\n",
    "    selected_option=input(\"What Database you want select?[1-5] \") \n",
    "    if selected_option==\"1\": \n",
    "        dataset=\"amazon.csv\" \n",
    "        transactions=\"amazon_transactions.csv\"\n",
    "        print(\"Amazon's Dataset is selected.\")\n",
    "        break\n",
    "    elif selected_option==\"2\":\n",
    "        dataset=\"best_buy.csv\" \n",
    "        transactions=\"best_buy_transactions.csv\"\n",
    "        print(\"Best Buy's Dataset is selected.\")\n",
    "        break\n",
    "    elif selected_option==\"3\":\n",
    "        dataset=\"nike.csv\" \n",
    "        transactions=\"nike_transactions.csv\"\n",
    "        print(\"Nike's Dataset is selected.\")\n",
    "        break\n",
    "    elif selected_option==\"4\":\n",
    "        dataset=\"kmart.csv\" \n",
    "        transactions=\"kmart_transactions.csv\"\n",
    "        print(\"K-mart's Dataset is selected.\")\n",
    "        break\n",
    "    elif selected_option==\"5\":\n",
    "        dataset=\"custom_database.csv\" \n",
    "        transactions=\"custom_transactions.csv\"\n",
    "        print(\"Custom Dataset is selected.\")\n",
    "        break\n",
    "    \n",
    "    elif selected_option !=\"\":\n",
    "      selected_option = input(\"\\n Not Valid Choice Try again\") "
   ]
  },
  {
   "cell_type": "code",
   "execution_count": 82,
   "metadata": {},
   "outputs": [
    {
     "data": {
      "text/html": [
       "<div>\n",
       "<style scoped>\n",
       "    .dataframe tbody tr th:only-of-type {\n",
       "        vertical-align: middle;\n",
       "    }\n",
       "\n",
       "    .dataframe tbody tr th {\n",
       "        vertical-align: top;\n",
       "    }\n",
       "\n",
       "    .dataframe thead th {\n",
       "        text-align: right;\n",
       "    }\n",
       "</style>\n",
       "<table border=\"1\" class=\"dataframe\">\n",
       "  <thead>\n",
       "    <tr style=\"text-align: right;\">\n",
       "      <th></th>\n",
       "      <th>Transaction ID</th>\n",
       "      <th>Transaction</th>\n",
       "    </tr>\n",
       "  </thead>\n",
       "  <tbody>\n",
       "    <tr>\n",
       "      <th>0</th>\n",
       "      <td>Trans1</td>\n",
       "      <td>ink,  pen, cheese, bag</td>\n",
       "    </tr>\n",
       "    <tr>\n",
       "      <th>1</th>\n",
       "      <td>Trans2</td>\n",
       "      <td>milk, pen, juice, cheese</td>\n",
       "    </tr>\n",
       "    <tr>\n",
       "      <th>2</th>\n",
       "      <td>Trans3</td>\n",
       "      <td>milk, juice, cookie, egg</td>\n",
       "    </tr>\n",
       "    <tr>\n",
       "      <th>3</th>\n",
       "      <td>Trans4</td>\n",
       "      <td>juice, milk, cheese, bread</td>\n",
       "    </tr>\n",
       "    <tr>\n",
       "      <th>4</th>\n",
       "      <td>Trans5</td>\n",
       "      <td>ink, pen, cheese, bag</td>\n",
       "    </tr>\n",
       "    <tr>\n",
       "      <th>5</th>\n",
       "      <td>Trans6</td>\n",
       "      <td>milk, pen, juice, cheese</td>\n",
       "    </tr>\n",
       "    <tr>\n",
       "      <th>6</th>\n",
       "      <td>Trans7</td>\n",
       "      <td>notebook, bag, ink</td>\n",
       "    </tr>\n",
       "    <tr>\n",
       "      <th>7</th>\n",
       "      <td>Trans8</td>\n",
       "      <td>milk, pen, notebook, ink</td>\n",
       "    </tr>\n",
       "    <tr>\n",
       "      <th>8</th>\n",
       "      <td>Trans9</td>\n",
       "      <td>cheese, milk, cookie, pen, bread</td>\n",
       "    </tr>\n",
       "    <tr>\n",
       "      <th>9</th>\n",
       "      <td>Trams10</td>\n",
       "      <td>pen, notebook, bag</td>\n",
       "    </tr>\n",
       "    <tr>\n",
       "      <th>10</th>\n",
       "      <td>Trans11</td>\n",
       "      <td>juice, ink, pen, egg</td>\n",
       "    </tr>\n",
       "    <tr>\n",
       "      <th>11</th>\n",
       "      <td>Trans12</td>\n",
       "      <td>milk, cookie, cheese, juice</td>\n",
       "    </tr>\n",
       "    <tr>\n",
       "      <th>12</th>\n",
       "      <td>Trans13</td>\n",
       "      <td>cheese, bag, pen, notebook</td>\n",
       "    </tr>\n",
       "    <tr>\n",
       "      <th>13</th>\n",
       "      <td>Trans14</td>\n",
       "      <td>milk, cookie, egg</td>\n",
       "    </tr>\n",
       "    <tr>\n",
       "      <th>14</th>\n",
       "      <td>Trans15</td>\n",
       "      <td>pen, notebook, ink, juice</td>\n",
       "    </tr>\n",
       "    <tr>\n",
       "      <th>15</th>\n",
       "      <td>Trans16</td>\n",
       "      <td>milk, pen, cookie, notebook</td>\n",
       "    </tr>\n",
       "    <tr>\n",
       "      <th>16</th>\n",
       "      <td>Trans17</td>\n",
       "      <td>cheese, cookie, pen</td>\n",
       "    </tr>\n",
       "    <tr>\n",
       "      <th>17</th>\n",
       "      <td>Trans18</td>\n",
       "      <td>notebook, pen, ink</td>\n",
       "    </tr>\n",
       "    <tr>\n",
       "      <th>18</th>\n",
       "      <td>Trans19</td>\n",
       "      <td>milk, cookie, juice,  cheeze</td>\n",
       "    </tr>\n",
       "    <tr>\n",
       "      <th>19</th>\n",
       "      <td>Trans20</td>\n",
       "      <td>juice, cheese, notebook, pen</td>\n",
       "    </tr>\n",
       "  </tbody>\n",
       "</table>\n",
       "</div>"
      ],
      "text/plain": [
       "   Transaction ID                       Transaction\n",
       "0          Trans1            ink,  pen, cheese, bag\n",
       "1          Trans2          milk, pen, juice, cheese\n",
       "2          Trans3          milk, juice, cookie, egg\n",
       "3          Trans4        juice, milk, cheese, bread\n",
       "4          Trans5             ink, pen, cheese, bag\n",
       "5          Trans6          milk, pen, juice, cheese\n",
       "6          Trans7                notebook, bag, ink\n",
       "7          Trans8          milk, pen, notebook, ink\n",
       "8          Trans9  cheese, milk, cookie, pen, bread\n",
       "9         Trams10                pen, notebook, bag\n",
       "10        Trans11              juice, ink, pen, egg\n",
       "11        Trans12       milk, cookie, cheese, juice\n",
       "12        Trans13        cheese, bag, pen, notebook\n",
       "13        Trans14                 milk, cookie, egg\n",
       "14        Trans15         pen, notebook, ink, juice\n",
       "15        Trans16       milk, pen, cookie, notebook\n",
       "16        Trans17               cheese, cookie, pen\n",
       "17        Trans18                notebook, pen, ink\n",
       "18        Trans19      milk, cookie, juice,  cheeze\n",
       "19        Trans20      juice, cheese, notebook, pen"
      ]
     },
     "execution_count": 82,
     "metadata": {},
     "output_type": "execute_result"
    }
   ],
   "source": [
    "data_items = pd.read_csv(dataset,names=[\"item#\", \"items\"]) #source:https://www.w3schools.com/python/pandas/pandas_csv.asp\n",
    "transaction_items = pd.read_csv(transactions,names=[\"Transaction ID\",\"Transaction\"])\n",
    "transaction_items.head(20)"
   ]
  },
  {
   "cell_type": "code",
   "execution_count": 83,
   "metadata": {},
   "outputs": [
    {
     "name": "stdout",
     "output_type": "stream",
     "text": [
      "[['ink', ' pen', 'cheese', 'bag'], ['milk', 'pen', 'juice', 'cheese'], ['milk', 'juice', 'cookie', 'egg'], ['juice', 'milk', 'cheese', 'bread'], ['ink', 'pen', 'cheese', 'bag'], ['milk', 'pen', 'juice', 'cheese'], ['notebook', 'bag', 'ink'], ['milk', 'pen', 'notebook', 'ink'], ['cheese', 'milk', 'cookie', 'pen', 'bread'], ['pen', 'notebook', 'bag'], ['juice', 'ink', 'pen', 'egg'], ['milk', 'cookie', 'cheese', 'juice'], ['cheese', 'bag', 'pen', 'notebook'], ['milk', 'cookie', 'egg'], ['pen', 'notebook', 'ink', 'juice'], ['milk', 'pen', 'cookie', 'notebook'], ['cheese', 'cookie', 'pen'], ['notebook', 'pen', 'ink'], ['milk', 'cookie', 'juice', ' cheeze'], ['juice', 'cheese', 'notebook', 'pen']]\n"
     ]
    }
   ],
   "source": [
    "records = []\n",
    "for  trans in transaction_items[\"Transaction\"]:\n",
    "    transactions =  trans.split(\", \")\n",
    "    records.append(transactions)\n",
    "print(records)\n"
   ]
  },
  {
   "cell_type": "code",
   "execution_count": 84,
   "metadata": {},
   "outputs": [],
   "source": [
    "def stage_1(transaction_items,min_support_count,records,data_items):\n",
    "    C1 ={}\n",
    "    for item in data_items[\"items\"]:\n",
    "        count=0\n",
    "        for trans_item in records:\n",
    "            if item in trans_item:\n",
    "                count+=1\n",
    "            support = (count/20)*100\n",
    "            C1[item]=round(support,3)\n",
    "    L1 = {}\n",
    "    for key,val in C1.items():\n",
    "        if val  > min_support:\n",
    "            L1[key]=val\n",
    "    return C1, L1"
   ]
  },
  {
   "cell_type": "code",
   "execution_count": 85,
   "metadata": {},
   "outputs": [
    {
     "name": "stdout",
     "output_type": "stream",
     "text": [
      "{'ink': 35.0, 'pen': 65.0, 'cheese': 50.0, 'bag': 25.0, 'juice': 45.0, 'milk': 50.0, 'cookie': 35.0, 'notebook': 40.0, 'egg': 15.0, 'bread': 10.0} \n",
      "\n",
      "\n",
      "{'ink': 35.0, 'pen': 65.0, 'cheese': 50.0, 'juice': 45.0, 'milk': 50.0, 'cookie': 35.0, 'notebook': 40.0}\n"
     ]
    }
   ],
   "source": [
    "C1,L1 = stage_1(transaction_items,min_support,records,data_items)\n",
    "print(C1,\"\\n\\n\")\n",
    "print(L1)"
   ]
  },
  {
   "cell_type": "code",
   "execution_count": 86,
   "metadata": {},
   "outputs": [
    {
     "name": "stdout",
     "output_type": "stream",
     "text": [
      "{('cheese', 'cookie'): 15.0, ('cheese', 'ink'): 10.0, ('cheese', 'juice'): 25.0, ('cheese', 'milk'): 25.0, ('cheese', 'notebook'): 10.0, ('cheese', 'pen'): 35.0, ('cookie', 'ink'): 0.0, ('cookie', 'juice'): 15.0, ('cookie', 'milk'): 30.0, ('cookie', 'notebook'): 5.0, ('cookie', 'pen'): 15.0, ('ink', 'juice'): 10.0, ('ink', 'milk'): 5.0, ('ink', 'notebook'): 20.0, ('ink', 'pen'): 25.0, ('juice', 'milk'): 30.0, ('juice', 'notebook'): 10.0, ('juice', 'pen'): 25.0, ('milk', 'notebook'): 10.0, ('milk', 'pen'): 25.0, ('notebook', 'pen'): 35.0} \n",
      "\n",
      "\n",
      "{('cheese', 'pen'): 35.0, ('cookie', 'milk'): 30.0, ('juice', 'milk'): 30.0, ('notebook', 'pen'): 35.0}\n"
     ]
    }
   ],
   "source": [
    "def check_subset_frequency(itemset,L,num):\n",
    "    if num>1:\n",
    "        subset = list(itertools.combinations(itemset,num))\n",
    "    else:\n",
    "        subset = itemset\n",
    "    for i in subset:\n",
    "        if not i in L:\n",
    "            return False\n",
    "    return True\n",
    "def stage_2(L1,records,min_support):\n",
    "    L1 = sorted(list(L1.keys()))\n",
    "    List_1 = list(itertools.combinations(L1, 2)) #source: https://stackoverflow.com/questions/464864/how-to-get-all-possible-combinations-of-a-list-s-elements\n",
    "    \n",
    "    C2={}\n",
    "    L2={}\n",
    "    for i in List_1:\n",
    "        count = 0\n",
    "        for j in records:\n",
    "            if i[0] in j and i[1] in j:\n",
    "                count+=1\n",
    "            support = (count/20)*100\n",
    "        C2[i] = round(support,3)\n",
    "        for key, val in C2.items():\n",
    "            if val >= min_support:\n",
    "                if check_subset_frequency(key, L1, 1):\n",
    "                    L2[key] = val\n",
    "    \n",
    "    return C2,L2\n",
    "C2, L2 = stage_2(L1, records, min_support)\n",
    "\n",
    "\n",
    "print(C2,\"\\n\\n\")\n",
    "print(L2)\n"
   ]
  },
  {
   "cell_type": "code",
   "execution_count": 87,
   "metadata": {
    "scrolled": true
   },
   "outputs": [
    {
     "name": "stdout",
     "output_type": "stream",
     "text": [
      "{}\n"
     ]
    }
   ],
   "source": [
    "def stage_3(L2, records, min_support):\n",
    "    L2 = list(L2.keys())\n",
    "    List_2 = sorted(list(set([item for t in L2 for item in t])))\n",
    "    List_2 = list(itertools.combinations(List_2, 3))\n",
    "    \n",
    "    C3 = {}\n",
    "    L3 = {}\n",
    "    \n",
    "    for iter1 in List_2:\n",
    "        count = 0\n",
    "        \n",
    "        \n",
    "        for iter2 in records:\n",
    "            if iter1[0] in iter2 and iter1[1] in iter2 and iter1[2] in iter2:\n",
    "                count+=1\n",
    "            support = (count/20)*100\n",
    "        C3[iter1] = round(support,3) \n",
    "        \n",
    "   \n",
    "    for key, value in C3.items():\n",
    "        if value >= min_support:\n",
    "            if check_subset_frequency(key, L2, 2):\n",
    "                L3[key] = value \n",
    "    \n",
    "    return C3, L3\n",
    "C3, L3 = stage_3(L2, records, min_support)\n",
    "#print(C3,\"\\n\\n\")\n",
    "print(L3)"
   ]
  },
  {
   "cell_type": "code",
   "execution_count": 88,
   "metadata": {},
   "outputs": [
    {
     "name": "stdout",
     "output_type": "stream",
     "text": [
      "{} \n",
      "\n",
      "\n",
      "{}\n"
     ]
    }
   ],
   "source": [
    "def stage_4(L3, records, min_support):\n",
    "    L3 = list(L3.keys())\n",
    "    List_3 = sorted(list(set([item for t in L3 for item in t])))\n",
    "    L3 = list(itertools.combinations(L3, 4))\n",
    "    C4 = {}\n",
    "    L4 = {}\n",
    "    for iter1 in List_3:\n",
    "        count = 0\n",
    "        for iter2 in records:\n",
    "            if iter1[0] in iter2 and iter1[1] in iter2 and iter1[2] in iter2 and iter1[3] in iter2:\n",
    "                count+=1\n",
    "        C4[iter1] = count\n",
    "    for key, val in C4.items():\n",
    "        if val >= min_support:\n",
    "            if check_subset_frequency(key, L3, 3):\n",
    "                L4[key] = val \n",
    "        \n",
    "    return C4, L4\n",
    "C4, L4 = stage_4(L3, records, min_support)\n",
    "print(C4,\"\\n\\n\")\n",
    "print(L4)"
   ]
  },
  {
   "cell_type": "code",
   "execution_count": 89,
   "metadata": {},
   "outputs": [
    {
     "name": "stdout",
     "output_type": "stream",
     "text": [
      "[[('cheese', 'pen')], [('cookie', 'milk')], [('juice', 'milk')], [('notebook', 'pen')]]\n"
     ]
    }
   ],
   "source": [
    "sets3 = []\n",
    "for iter1 in list(L3.keys()):\n",
    "    subsets = list(itertools.combinations(iter1, 2))\n",
    "    sets.append(subsets)\n"
   ]
  },
  {
   "cell_type": "code",
   "execution_count": 91,
   "metadata": {},
   "outputs": [
    {
     "name": "stdout",
     "output_type": "stream",
     "text": [
      "Confidence('cheese', 'pen')->set() =  100.0 \n",
      "\n",
      "Confidence('cookie', 'milk')->set() =  100.0 \n",
      "\n",
      "Confidence('juice', 'milk')->set() =  100.0 \n",
      "\n",
      "Confidence('notebook', 'pen')->set() =  100.0 \n",
      "\n"
     ]
    }
   ],
   "source": [
    "itemlist = {**L1,**L2,**L3,**L4}\n",
    "def support_count(itemset, itemlist):\n",
    "    return itemlist[itemset]\n",
    "\n",
    "\n",
    "list_l3 = list(L3.keys())\n",
    "for i in range(0, len(list_l3)):\n",
    "    for iter1 in sets[i]:\n",
    "        a = iter1\n",
    "        b = set(list_l3[i]) - set(iter1)\n",
    "        confidence = (support_count(list_l3[i], itemlist)/support_count(iter1, itemlist))*100\n",
    "        if(confidence>=min_confidence):\n",
    "            print(\"Confidence{}->{} = \".format(a,b), confidence, \"\\n\")"
   ]
  },
  {
   "cell_type": "code",
   "execution_count": null,
   "metadata": {},
   "outputs": [],
   "source": [
    "def stage_4(l3, records, minimum_support_count):\n",
    "    l3 = list(l3.keys())\n",
    "    L3 = sorted(list(set([item for t in l3 for item in t])))\n",
    "    L3 = list(itertools.combinations(L3, 4))\n",
    "    c4 = {}\n",
    "    l4 = {}\n",
    "    for iter1 in L3:\n",
    "        count = 0\n",
    "        for iter2 in records:\n",
    "            if sublist(iter1, iter2):\n",
    "                count+=1\n",
    "        c4[iter1] = count\n",
    "    for key, value in c4.items():\n",
    "        if value >= minimum_support_count:\n",
    "            if check_subset_frequency(key, l3, 3):\n",
    "                l4[key] = value \n",
    "        \n",
    "    return c4, l4\n"
   ]
  }
 ],
 "metadata": {
  "kernelspec": {
   "display_name": "Python 3",
   "language": "python",
   "name": "python3"
  },
  "language_info": {
   "codemirror_mode": {
    "name": "ipython",
    "version": 3
   },
   "file_extension": ".py",
   "mimetype": "text/x-python",
   "name": "python",
   "nbconvert_exporter": "python",
   "pygments_lexer": "ipython3",
   "version": "3.8.5"
  }
 },
 "nbformat": 4,
 "nbformat_minor": 4
}
