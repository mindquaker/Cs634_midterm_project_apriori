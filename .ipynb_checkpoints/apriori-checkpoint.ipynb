{
 "cells": [
  {
   "cell_type": "code",
   "execution_count": 1,
   "metadata": {},
   "outputs": [],
   "source": [
    "import pandas as pd\n",
    "import numpy as np\n",
    "import matplotlib.pyplot as plt\n",
    "import matplotlib.cbook as cbook\n",
    "import itertools"
   ]
  },
  {
   "cell_type": "code",
   "execution_count": 2,
   "metadata": {},
   "outputs": [
    {
     "name": "stdout",
     "output_type": "stream",
     "text": [
      "Please Enter Minimum Support in %: 60\n",
      "Please Enter Minimum Confidence in %: 50\n"
     ]
    }
   ],
   "source": [
    "min_support = int(input(\"Please Enter Minimum Support in %: \"))\n",
    "min_confidence = int(input(\"Please Enter Minimum Confidence in %: \"))"
   ]
  },
  {
   "cell_type": "code",
   "execution_count": 3,
   "metadata": {},
   "outputs": [
    {
     "name": "stdout",
     "output_type": "stream",
     "text": [
      "1 Amazon\n",
      "2 Best Buy\n",
      "3 Nike\n",
      "4 K-mart\n",
      "5 Custom\n",
      "What Database you want select?[1-5] 1\n",
      "Amazon's Dataset is selected.\n"
     ]
    }
   ],
   "source": [
    "menu = {}\n",
    "menu[\"1\"] = \"Amazon\"\n",
    "menu[\"2\"] = \"Best Buy\"\n",
    "menu[\"3\"] = \"Nike\"\n",
    "menu[\"4\"] = \"K-mart\"\n",
    "menu[\"5\"] = \"Custom\"\n",
    " \n",
    "options=menu.keys()\n",
    "while True:  \n",
    "    for entry in options: \n",
    "        print(entry, menu[entry])\n",
    "    selected_option=input(\"What Database you want select?[1-5] \") \n",
    "    if selected_option==\"1\": \n",
    "        dataset=\"amazon.csv\" \n",
    "        transactions=\"amazon_transactions.csv\"\n",
    "        print(\"Amazon's Dataset is selected.\")\n",
    "        break\n",
    "    elif selected_option==\"2\":\n",
    "        dataset=\"best_buy.csv\" \n",
    "        transactions=\"best_buy_transactions.csv\"\n",
    "        print(\"Best Buy's Dataset is selected.\")\n",
    "        break\n",
    "    elif selected_option==\"3\":\n",
    "        dataset=\"nike.csv\" \n",
    "        transactions=\"nike_transactions.csv\"\n",
    "        print(\"Nike's Dataset is selected.\")\n",
    "        break\n",
    "    elif selected_option==\"4\":\n",
    "        dataset=\"kmart.csv\" \n",
    "        transactions=\"kmart_transactions.csv\"\n",
    "        print(\"K-mart's Dataset is selected.\")\n",
    "        break\n",
    "    elif selected_option==\"5\":\n",
    "        dataset=\"custom_database.csv\" \n",
    "        transactions=\"custom_transactions.csv\"\n",
    "        print(\"Custom Dataset is selected.\")\n",
    "        break\n",
    "    \n",
    "    elif selected_option !=\"\":\n",
    "      selected_option = input(\"\\n Not Valid Choice Try again\") "
   ]
  },
  {
   "cell_type": "code",
   "execution_count": 4,
   "metadata": {
    "scrolled": true
   },
   "outputs": [
    {
     "data": {
      "text/html": [
       "<div>\n",
       "<style scoped>\n",
       "    .dataframe tbody tr th:only-of-type {\n",
       "        vertical-align: middle;\n",
       "    }\n",
       "\n",
       "    .dataframe tbody tr th {\n",
       "        vertical-align: top;\n",
       "    }\n",
       "\n",
       "    .dataframe thead th {\n",
       "        text-align: right;\n",
       "    }\n",
       "</style>\n",
       "<table border=\"1\" class=\"dataframe\">\n",
       "  <thead>\n",
       "    <tr style=\"text-align: right;\">\n",
       "      <th></th>\n",
       "      <th>Transaction ID</th>\n",
       "      <th>Transaction</th>\n",
       "    </tr>\n",
       "  </thead>\n",
       "  <tbody>\n",
       "    <tr>\n",
       "      <th>0</th>\n",
       "      <td>Trans1</td>\n",
       "      <td>A Beginner’s Guide, Java: The Complete Referen...</td>\n",
       "    </tr>\n",
       "    <tr>\n",
       "      <th>1</th>\n",
       "      <td>Trans2</td>\n",
       "      <td>A Beginner’s Guide, Java: The Complete Referen...</td>\n",
       "    </tr>\n",
       "    <tr>\n",
       "      <th>2</th>\n",
       "      <td>Trans3</td>\n",
       "      <td>A Beginner’s Guide, Java: The Complete Referen...</td>\n",
       "    </tr>\n",
       "    <tr>\n",
       "      <th>3</th>\n",
       "      <td>Trans4</td>\n",
       "      <td>Android Programming: The Big Nerd Ranch, Head ...</td>\n",
       "    </tr>\n",
       "    <tr>\n",
       "      <th>4</th>\n",
       "      <td>Trans5</td>\n",
       "      <td>Android Programming: The Big Nerd Ranch, Begin...</td>\n",
       "    </tr>\n",
       "    <tr>\n",
       "      <th>5</th>\n",
       "      <td>Trans6</td>\n",
       "      <td>A Beginner’s Guide, Android Programming: The B...</td>\n",
       "    </tr>\n",
       "    <tr>\n",
       "      <th>6</th>\n",
       "      <td>Trans7</td>\n",
       "      <td>A Beginner’s Guide, Head First Java 2nd Editio...</td>\n",
       "    </tr>\n",
       "    <tr>\n",
       "      <th>7</th>\n",
       "      <td>Trans8</td>\n",
       "      <td>Java: The Complete Reference, Java For Dummies...</td>\n",
       "    </tr>\n",
       "    <tr>\n",
       "      <th>8</th>\n",
       "      <td>Trans9</td>\n",
       "      <td>Java For Dummies, Android Programming: The Big...</td>\n",
       "    </tr>\n",
       "    <tr>\n",
       "      <th>9</th>\n",
       "      <td>Trans10</td>\n",
       "      <td>Beginning Programming with Java, Java 8 Pocket...</td>\n",
       "    </tr>\n",
       "    <tr>\n",
       "      <th>10</th>\n",
       "      <td>Trans11</td>\n",
       "      <td>A Beginner’s Guide, Java: The Complete Referen...</td>\n",
       "    </tr>\n",
       "    <tr>\n",
       "      <th>11</th>\n",
       "      <td>Trans12</td>\n",
       "      <td>A Beginner’s Guide, Java: The Complete Referen...</td>\n",
       "    </tr>\n",
       "    <tr>\n",
       "      <th>12</th>\n",
       "      <td>Trans13</td>\n",
       "      <td>A Beginner’s Guide, Java: The Complete Referen...</td>\n",
       "    </tr>\n",
       "    <tr>\n",
       "      <th>13</th>\n",
       "      <td>Trans14</td>\n",
       "      <td>Java For Dummies, Android Programming: The Big...</td>\n",
       "    </tr>\n",
       "    <tr>\n",
       "      <th>14</th>\n",
       "      <td>Trans15</td>\n",
       "      <td>Java For Dummies, Android Programming: The Big...</td>\n",
       "    </tr>\n",
       "    <tr>\n",
       "      <th>15</th>\n",
       "      <td>Trans16</td>\n",
       "      <td>A Beginner’s Guide, Java: The Complete Referen...</td>\n",
       "    </tr>\n",
       "    <tr>\n",
       "      <th>16</th>\n",
       "      <td>Trans17</td>\n",
       "      <td>A Beginner’s Guide, Java: The Complete Referen...</td>\n",
       "    </tr>\n",
       "    <tr>\n",
       "      <th>17</th>\n",
       "      <td>Trans18</td>\n",
       "      <td>Head First Java 2nd Edition , Beginning Progra...</td>\n",
       "    </tr>\n",
       "    <tr>\n",
       "      <th>18</th>\n",
       "      <td>Trans19</td>\n",
       "      <td>Android Programming: The Big Nerd Ranch, Head ...</td>\n",
       "    </tr>\n",
       "    <tr>\n",
       "      <th>19</th>\n",
       "      <td>Trans20</td>\n",
       "      <td>A Beginner’s Guide, Java: The Complete Referen...</td>\n",
       "    </tr>\n",
       "  </tbody>\n",
       "</table>\n",
       "</div>"
      ],
      "text/plain": [
       "   Transaction ID                                        Transaction\n",
       "0          Trans1  A Beginner’s Guide, Java: The Complete Referen...\n",
       "1          Trans2  A Beginner’s Guide, Java: The Complete Referen...\n",
       "2          Trans3  A Beginner’s Guide, Java: The Complete Referen...\n",
       "3          Trans4  Android Programming: The Big Nerd Ranch, Head ...\n",
       "4          Trans5  Android Programming: The Big Nerd Ranch, Begin...\n",
       "5          Trans6  A Beginner’s Guide, Android Programming: The B...\n",
       "6          Trans7  A Beginner’s Guide, Head First Java 2nd Editio...\n",
       "7          Trans8  Java: The Complete Reference, Java For Dummies...\n",
       "8          Trans9  Java For Dummies, Android Programming: The Big...\n",
       "9         Trans10  Beginning Programming with Java, Java 8 Pocket...\n",
       "10        Trans11  A Beginner’s Guide, Java: The Complete Referen...\n",
       "11        Trans12  A Beginner’s Guide, Java: The Complete Referen...\n",
       "12        Trans13  A Beginner’s Guide, Java: The Complete Referen...\n",
       "13        Trans14  Java For Dummies, Android Programming: The Big...\n",
       "14        Trans15  Java For Dummies, Android Programming: The Big...\n",
       "15        Trans16  A Beginner’s Guide, Java: The Complete Referen...\n",
       "16        Trans17  A Beginner’s Guide, Java: The Complete Referen...\n",
       "17        Trans18  Head First Java 2nd Edition , Beginning Progra...\n",
       "18        Trans19  Android Programming: The Big Nerd Ranch, Head ...\n",
       "19        Trans20  A Beginner’s Guide, Java: The Complete Referen..."
      ]
     },
     "execution_count": 4,
     "metadata": {},
     "output_type": "execute_result"
    }
   ],
   "source": [
    "data_items = pd.read_csv(dataset,names=[\"item#\", \"items\"])\n",
    "transaction_items = pd.read_csv(transactions,names=[\"Transaction ID\",\"Transaction\"])\n",
    "transaction_items.head(20)\n"
   ]
  },
  {
   "cell_type": "code",
   "execution_count": 5,
   "metadata": {},
   "outputs": [],
   "source": [
    "def get_C1(transaction_items,min_support,data_items):\n",
    "    C1 ={}\n",
    "    for item in data_items[\"items\"]:\n",
    "        count=0\n",
    "        for trans_item in transaction_items[\"Transaction\"]:\n",
    "            if item in trans_item.split( \", \"):\n",
    "                count+=1\n",
    "            support = (count/20)*100\n",
    "            \n",
    "            C1[item]=round(support,3)\n",
    "    return C1\n",
    "         "
   ]
  },
  {
   "cell_type": "code",
   "execution_count": 13,
   "metadata": {
    "scrolled": true
   },
   "outputs": [
    {
     "name": "stdout",
     "output_type": "stream",
     "text": [
      "{'A Beginner’s Guide': 55.0, 'Java: The Complete Reference': 50.0, 'Java For Dummies': 65.0, 'Android Programming: The Big Nerd Ranch': 60.0, 'Head First Java 2nd Edition': 20.0, 'Beginning Programming with Java': 20.0, 'Java 8 Pocket Guide': 20.0, 'C++ Programming in Easy Steps': 5.0, 'Effective Java (2nd Edition)': 0.0, 'HTML and CSS: Design and Build Websites': 10.0}\n"
     ]
    }
   ],
   "source": [
    "item_support_C1=get_C1(transaction_items,min_support,data_items)\n",
    "print(item_support_C1)"
   ]
  },
  {
   "cell_type": "code",
   "execution_count": 15,
   "metadata": {},
   "outputs": [
    {
     "name": "stdout",
     "output_type": "stream",
     "text": [
      "{'A Beginner’s Guide': 55.0, 'Java: The Complete Reference': 50.0, 'Java For Dummies': 65.0, 'Android Programming: The Big Nerd Ranch': 60.0, 'Head First Java 2nd Edition': 20.0, 'Beginning Programming with Java': 20.0, 'Java 8 Pocket Guide': 20.0}\n"
     ]
    }
   ],
   "source": [
    "L1 = {}\n",
    "for key,val in item_support_C1.items():\n",
    "    if val  > min_support:\n",
    "        L1[key]=val\n",
    "print(L1)"
   ]
  },
  {
   "cell_type": "code",
   "execution_count": null,
   "metadata": {},
   "outputs": [],
   "source": []
  },
  {
   "cell_type": "code",
   "execution_count": null,
   "metadata": {},
   "outputs": [],
   "source": []
  },
  {
   "cell_type": "code",
   "execution_count": null,
   "metadata": {},
   "outputs": [],
   "source": []
  }
 ],
 "metadata": {
  "kernelspec": {
   "display_name": "Python 3",
   "language": "python",
   "name": "python3"
  },
  "language_info": {
   "codemirror_mode": {
    "name": "ipython",
    "version": 3
   },
   "file_extension": ".py",
   "mimetype": "text/x-python",
   "name": "python",
   "nbconvert_exporter": "python",
   "pygments_lexer": "ipython3",
   "version": "3.8.5"
  }
 },
 "nbformat": 4,
 "nbformat_minor": 4
}
